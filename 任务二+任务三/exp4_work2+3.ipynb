{
 "cells": [
  {
   "cell_type": "code",
   "execution_count": 47,
   "metadata": {},
   "outputs": [],
   "source": [
    "import pyspark\n",
    "from pyspark.sql import SparkSession\n",
    "from pyspark.sql.types import *\n",
    "import pyspark.sql.functions as f\n",
    "import seaborn as sns\n",
    "import matplotlib.pyplot as plt"
   ]
  },
  {
   "cell_type": "code",
   "execution_count": 2,
   "metadata": {},
   "outputs": [],
   "source": [
    "session = SparkSession.builder.master(\"local[*]\").appName(\"test\").getOrCreate()"
   ]
  },
  {
   "cell_type": "code",
   "execution_count": 3,
   "metadata": {},
   "outputs": [],
   "source": [
    "df = session.read.csv(\"train_data.csv\", encoding=\"utf-8\", header=True)"
   ]
  },
  {
   "cell_type": "markdown",
   "metadata": {},
   "source": [
    "# 复现任务一\n",
    "## 统计每个⼯作领域 industry 的⽹贷记录的数量，并按数量从⼤到⼩进⾏排序"
   ]
  },
  {
   "cell_type": "code",
   "execution_count": 4,
   "metadata": {},
   "outputs": [
    {
     "name": "stdout",
     "output_type": "stream",
     "text": [
      "+------------------------------+-----+\n",
      "|                      industry|count|\n",
      "+------------------------------+-----+\n",
      "|                        金融业|48216|\n",
      "|          电力、热力生产供应业|36048|\n",
      "|            公共服务、社会组织|30262|\n",
      "|                  住宿和餐饮业|26954|\n",
      "|                  文化和体育业|24211|\n",
      "|信息传输、软件和信息技术服务业|24078|\n",
      "|                        建筑业|20788|\n",
      "|                      房地产业|17990|\n",
      "|        交通运输、仓储和邮政业|15028|\n",
      "|                        采矿业|14793|\n",
      "|              农、林、牧、渔业|14758|\n",
      "|                      国际组织| 9118|\n",
      "|                  批发和零售业| 8892|\n",
      "|                        制造业| 8864|\n",
      "+------------------------------+-----+\n",
      "\n"
     ]
    }
   ],
   "source": [
    "df.select(\"industry\").groupBy(\"industry\").count().orderBy(f.desc(\"count\")).show()"
   ]
  },
  {
   "cell_type": "markdown",
   "metadata": {},
   "source": [
    "# 任务二\n",
    "## 统计⽹络信⽤贷产品记录数据中所有⽤户的贷款⾦额 total_loan 的分布情况，以 1000 元为区间进⾏输出。"
   ]
  },
  {
   "cell_type": "code",
   "execution_count": 11,
   "metadata": {},
   "outputs": [],
   "source": [
    "def total_loan_classify(str_value):\n",
    "    value = float(str_value)\n",
    "    c = int(value // 1000)\n",
    "    res = \"(\" + str(c*1000) + \",\" + str((c+1)*1000) + \")\"\n",
    "    return res\n",
    "def total_loan_sort(str_value):\n",
    "    value = int(str_value.split(\",\")[0][1:])\n",
    "    return value\n",
    "udf_total_loan_classify = f.udf(total_loan_classify, StringType())\n",
    "udf_total_loan_sort = f.udf(total_loan_sort, StringType())"
   ]
  },
  {
   "cell_type": "code",
   "execution_count": 23,
   "metadata": {},
   "outputs": [],
   "source": [
    "df = df.withColumn(\"total_loan_class\", udf_total_loan_classify(\"total_loan\"))"
   ]
  },
  {
   "cell_type": "code",
   "execution_count": 26,
   "metadata": {
    "scrolled": true
   },
   "outputs": [],
   "source": [
    "res = df.select([\"total_loan\", \"total_loan_class\"]).groupBy(\"total_loan_class\").count()"
   ]
  },
  {
   "cell_type": "code",
   "execution_count": 28,
   "metadata": {},
   "outputs": [],
   "source": [
    "res = res.withColumn(\"total_loan_sort\", udf_total_loan_sort(\"total_loan_class\"))\n",
    "res = res.withColumn(\"total_loan_sort\", res[\"total_loan_sort\"].cast(IntegerType()))\n",
    "res = res.orderBy(\"total_loan_sort\")\n",
    "res = res.select([\"total_loan_class\", \"count\"])"
   ]
  },
  {
   "cell_type": "code",
   "execution_count": 29,
   "metadata": {
    "scrolled": true
   },
   "outputs": [
    {
     "name": "stdout",
     "output_type": "stream",
     "text": [
      "+----------------+-----+\n",
      "|total_loan_class|count|\n",
      "+----------------+-----+\n",
      "|        (0,1000)|    2|\n",
      "|     (1000,2000)| 4043|\n",
      "|     (2000,3000)| 6341|\n",
      "|     (3000,4000)| 9317|\n",
      "|     (4000,5000)|10071|\n",
      "|     (5000,6000)|16514|\n",
      "|     (6000,7000)|15961|\n",
      "|     (7000,8000)|12789|\n",
      "|     (8000,9000)|16384|\n",
      "|    (9000,10000)|10458|\n",
      "|   (10000,11000)|27170|\n",
      "|   (11000,12000)| 7472|\n",
      "|   (12000,13000)|20513|\n",
      "|   (13000,14000)| 5928|\n",
      "|   (14000,15000)| 8888|\n",
      "|   (15000,16000)|18612|\n",
      "|   (16000,17000)|11277|\n",
      "|   (17000,18000)| 4388|\n",
      "|   (18000,19000)| 9342|\n",
      "|   (19000,20000)| 4077|\n",
      "|   (20000,21000)|17612|\n",
      "|   (21000,22000)| 5507|\n",
      "|   (22000,23000)| 3544|\n",
      "|   (23000,24000)| 2308|\n",
      "|   (24000,25000)| 8660|\n",
      "|   (25000,26000)| 8813|\n",
      "|   (26000,27000)| 1604|\n",
      "|   (27000,28000)| 1645|\n",
      "|   (28000,29000)| 5203|\n",
      "|   (29000,30000)| 1144|\n",
      "|   (30000,31000)| 6864|\n",
      "|   (31000,32000)|  752|\n",
      "|   (32000,33000)| 1887|\n",
      "|   (33000,34000)|  865|\n",
      "|   (34000,35000)|  587|\n",
      "|   (35000,36000)|11427|\n",
      "|   (36000,37000)|  364|\n",
      "|   (37000,38000)|   59|\n",
      "|   (38000,39000)|   85|\n",
      "|   (39000,40000)|   30|\n",
      "|   (40000,41000)| 1493|\n",
      "+----------------+-----+\n",
      "\n"
     ]
    }
   ],
   "source": [
    "res.show(50)"
   ]
  },
  {
   "cell_type": "code",
   "execution_count": 37,
   "metadata": {},
   "outputs": [],
   "source": [
    "respd = res.toPandas()"
   ]
  },
  {
   "cell_type": "code",
   "execution_count": 48,
   "metadata": {},
   "outputs": [
    {
     "name": "stderr",
     "output_type": "stream",
     "text": [
      "C:\\Users\\86137\\Anaconda3\\envs\\pytorch\\lib\\site-packages\\seaborn\\_decorators.py:43: FutureWarning: Pass the following variables as keyword args: x, y. From version 0.12, the only valid positional argument will be `data`, and passing other arguments without an explicit keyword will result in an error or misinterpretation.\n",
      "  FutureWarning\n"
     ]
    },
    {
     "data": {
      "text/plain": [
       "<AxesSubplot:xlabel='count', ylabel='total_loan_class'>"
      ]
     },
     "execution_count": 48,
     "metadata": {},
     "output_type": "execute_result"
    },
    {
     "data": {
      "image/png": "[encoded data removed]",
      "text/plain": [
       "<Figure size 1080x720 with 1 Axes>"
      ]
     },
     "metadata": {
      "needs_background": "light"
     },
     "output_type": "display_data"
    }
   ],
   "source": [
    "plt.figure(figsize=(15, 10))\n",
    "sns.barplot(respd['count'], respd['total_loan_class'], orient='h')"
   ]
  },
  {
   "cell_type": "markdown",
   "metadata": {},
   "source": [
    "# 任务三-1\n",
    "## 统计所有⽤户所在公司类型 employer_type 的数量分布占⽐情况，输出成 CSV 格式的⽂件"
   ]
  },
  {
   "cell_type": "code",
   "execution_count": 8,
   "metadata": {},
   "outputs": [
    {
     "data": {
      "text/plain": [
       "300000"
      ]
     },
     "execution_count": 8,
     "metadata": {},
     "output_type": "execute_result"
    }
   ],
   "source": [
    "total_employer_type = df.select(\"employer_type\").count()\n",
    "total_employer_type"
   ]
  },
  {
   "cell_type": "code",
   "execution_count": 13,
   "metadata": {},
   "outputs": [],
   "source": [
    "df = df.withColumn(\"employer_type_percent\", f.lit(1/total_employer_type))"
   ]
  },
  {
   "cell_type": "code",
   "execution_count": 41,
   "metadata": {},
   "outputs": [],
   "source": [
    "res = df.select([\"employer_type\", \"employer_type_percent\"]).groupBy(\"employer_type\").agg(f.sum(\"employer_type_percent\")).orderBy(f.sum(\"employer_type_percent\"))"
   ]
  },
  {
   "cell_type": "code",
   "execution_count": 42,
   "metadata": {},
   "outputs": [],
   "source": [
    "res = res.withColumnRenamed('sum(employer_type_percent)','employer_type_percent')"
   ]
  },
  {
   "cell_type": "code",
   "execution_count": 43,
   "metadata": {},
   "outputs": [
    {
     "name": "stdout",
     "output_type": "stream",
     "text": [
      "+--------------+---------------------+\n",
      "| employer_type|employer_type_percent|\n",
      "+--------------+---------------------+\n",
      "|  高等教育机构|  0.03368666666666739|\n",
      "|    世界五百强|  0.05370666666666832|\n",
      "|幼教与中小学校|  0.09998333333332708|\n",
      "|      上市企业|  0.10012666666666041|\n",
      "|      政府机构|  0.25815333333336277|\n",
      "|      普通企业|   0.4543433333334228|\n",
      "+--------------+---------------------+\n",
      "\n"
     ]
    }
   ],
   "source": [
    "res.show()"
   ]
  },
  {
   "cell_type": "code",
   "execution_count": 44,
   "metadata": {},
   "outputs": [],
   "source": [
    "res = res.select(['employer_type', f.bround(\"employer_type_percent\", scale=4).alias('employer_type_percent')])"
   ]
  },
  {
   "cell_type": "code",
   "execution_count": 45,
   "metadata": {},
   "outputs": [
    {
     "name": "stdout",
     "output_type": "stream",
     "text": [
      "+--------------+---------------------+\n",
      "| employer_type|employer_type_percent|\n",
      "+--------------+---------------------+\n",
      "|  高等教育机构|               0.0337|\n",
      "|    世界五百强|               0.0537|\n",
      "|幼教与中小学校|                  0.1|\n",
      "|      上市企业|               0.1001|\n",
      "|      政府机构|               0.2582|\n",
      "|      普通企业|               0.4543|\n",
      "+--------------+---------------------+\n",
      "\n"
     ]
    }
   ],
   "source": [
    "res.show()"
   ]
  },
  {
   "cell_type": "code",
   "execution_count": 46,
   "metadata": {},
   "outputs": [],
   "source": [
    "res.repartition(1).write.csv(\"./work3-1\", encoding=\"gbk\", header=True)"
   ]
  },
  {
   "cell_type": "markdown",
   "metadata": {},
   "source": [
    "# 任务三-2\n",
    "## 统计每个⽤户最终须缴纳的利息⾦额，输出成 CSV 格式的⽂件"
   ]
  },
  {
   "cell_type": "code",
   "execution_count": 37,
   "metadata": {},
   "outputs": [],
   "source": [
    "df = df.withColumn(\"year_of_loan\", df[\"year_of_loan\"].cast(IntegerType()))\n",
    "df = df.withColumn(\"monthly_payment\", df[\"monthly_payment\"].cast(FloatType()))\n",
    "df = df.withColumn(\"total_loan\", df[\"total_loan\"].cast(FloatType()))"
   ]
  },
  {
   "cell_type": "code",
   "execution_count": 38,
   "metadata": {},
   "outputs": [],
   "source": [
    "df = df.withColumn(\"total_money\", df[\"year_of_loan\"]*df[\"monthly_payment\"]*12-df[\"total_loan\"])"
   ]
  },
  {
   "cell_type": "code",
   "execution_count": 47,
   "metadata": {},
   "outputs": [],
   "source": [
    "res = df.select([\"user_id\", \"total_money\"])"
   ]
  },
  {
   "cell_type": "code",
   "execution_count": 48,
   "metadata": {},
   "outputs": [
    {
     "name": "stdout",
     "output_type": "stream",
     "text": [
      "+-------+-----------+\n",
      "|user_id|total_money|\n",
      "+-------+-----------+\n",
      "|      0|     3846.0|\n",
      "|      1|  1840.6006|\n",
      "|      2|  10465.602|\n",
      "|      3|  1758.5195|\n",
      "|      4|  1056.8799|\n",
      "|      5|  7234.6406|\n",
      "|      6|   757.9204|\n",
      "|      7|   4186.959|\n",
      "|      8|  2030.7598|\n",
      "|      9|  378.71973|\n",
      "|     10|  4066.7598|\n",
      "|     11|  1873.5605|\n",
      "|     12|  5692.2793|\n",
      "|     13|  1258.6797|\n",
      "|     14|  6833.6016|\n",
      "|     15|   9248.201|\n",
      "|     16|   6197.121|\n",
      "|     17|    1312.44|\n",
      "|     18|   5125.201|\n",
      "|     19|  1215.8398|\n",
      "+-------+-----------+\n",
      "only showing top 20 rows\n",
      "\n"
     ]
    }
   ],
   "source": [
    "res.show()"
   ]
  },
  {
   "cell_type": "code",
   "execution_count": 49,
   "metadata": {},
   "outputs": [],
   "source": [
    "res.repartition(1).write.csv(\"./work3-2\", encoding=\"gbk\", header=True)"
   ]
  },
  {
   "cell_type": "markdown",
   "metadata": {},
   "source": [
    "# 任务三-3\n",
    "## 统计⼯作年限 work_year 超过 5 年的⽤户的房贷情况 censor_status 的数量分布占⽐情况。输出成 CSV 格式的⽂件"
   ]
  },
  {
   "cell_type": "code",
   "execution_count": 67,
   "metadata": {},
   "outputs": [],
   "source": [
    "def work_year_process(str_value):\n",
    "    if str_value is None:\n",
    "        return -1\n",
    "    elif '10+' in str_value:\n",
    "        return 11\n",
    "    elif \"<\" in str_value:\n",
    "        return 0\n",
    "    else:\n",
    "        str_num = str_value.split(' ')[0]\n",
    "        return int(str_num)\n",
    "udf_work_year_process = f.udf(work_year_process, StringType())"
   ]
  },
  {
   "cell_type": "code",
   "execution_count": 68,
   "metadata": {},
   "outputs": [],
   "source": [
    "df = df.withColumn(\"work_year_num\", udf_work_year_process('work_year'))"
   ]
  },
  {
   "cell_type": "code",
   "execution_count": 78,
   "metadata": {},
   "outputs": [],
   "source": [
    "res = df.select(['user_id', 'censor_status', 'work_year', 'work_year_num']).filter(df['work_year_num']>5)"
   ]
  },
  {
   "cell_type": "code",
   "execution_count": 79,
   "metadata": {},
   "outputs": [],
   "source": [
    "res = res.select(['user_id', 'censor_status', 'work_year'])"
   ]
  },
  {
   "cell_type": "code",
   "execution_count": 80,
   "metadata": {
    "scrolled": true
   },
   "outputs": [
    {
     "name": "stdout",
     "output_type": "stream",
     "text": [
      "+-------+-------------+---------+\n",
      "|user_id|censor_status|work_year|\n",
      "+-------+-------------+---------+\n",
      "|      1|            2|10+ years|\n",
      "|      2|            1|10+ years|\n",
      "|      5|            2|10+ years|\n",
      "|      6|            0|  8 years|\n",
      "|      7|            2|10+ years|\n",
      "|      9|            0|10+ years|\n",
      "|     10|            2|10+ years|\n",
      "|     15|            1|  7 years|\n",
      "|     16|            2|10+ years|\n",
      "|     17|            0|10+ years|\n",
      "|     18|            1|10+ years|\n",
      "|     20|            1|  7 years|\n",
      "|     21|            2|10+ years|\n",
      "|     25|            2|10+ years|\n",
      "|     26|            0|10+ years|\n",
      "|     30|            0|10+ years|\n",
      "|     31|            0|  6 years|\n",
      "|     33|            1|10+ years|\n",
      "|     38|            0|10+ years|\n",
      "|     39|            1|10+ years|\n",
      "+-------+-------------+---------+\n",
      "only showing top 20 rows\n",
      "\n"
     ]
    }
   ],
   "source": [
    "res.show()"
   ]
  },
  {
   "cell_type": "code",
   "execution_count": 81,
   "metadata": {},
   "outputs": [],
   "source": [
    "res.repartition(1).write.csv(\"./work3-3\", encoding=\"gbk\", header=True)"
   ]
  },
  {
   "cell_type": "code",
   "execution_count": null,
   "metadata": {},
   "outputs": [],
   "source": []
  }
 ],
 "metadata": {
  "kernelspec": {
   "display_name": "Python 3",
   "language": "python",
   "name": "python3"
  },
  "language_info": {
   "codemirror_mode": {
    "name": "ipython",
    "version": 3
   },
   "file_extension": ".py",
   "mimetype": "text/x-python",
   "name": "python",
   "nbconvert_exporter": "python",
   "pygments_lexer": "ipython3",
   "version": "3.6.12"
  }
 },
 "nbformat": 4,
 "nbformat_minor": 4
}
